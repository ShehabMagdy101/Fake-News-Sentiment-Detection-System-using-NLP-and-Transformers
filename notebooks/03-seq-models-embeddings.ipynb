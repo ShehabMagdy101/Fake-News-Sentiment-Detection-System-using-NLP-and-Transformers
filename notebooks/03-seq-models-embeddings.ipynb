{
 "cells": [
  {
   "cell_type": "markdown",
   "metadata": {},
   "source": [
    "# Load Data"
   ]
  },
  {
   "cell_type": "code",
   "execution_count": null,
   "metadata": {},
   "outputs": [],
   "source": [
    "import pandas as pd\n",
    "\n",
    "X_train = pd.read_csv('../data/processed/splits transformed/X_train_clean.csv', quoting= 1)\n",
    "X_test = pd.read_csv('../data/processed//splits transformed/X_test_clean.csv', quoting=1)\n",
    "\n",
    "y_train = pd.read_csv('../data/processed//splits/y_train.csv')\n",
    "y_test = pd.read_csv('../data/processed//splits/y_test.csv')"
   ]
  },
  {
   "cell_type": "markdown",
   "metadata": {},
   "source": [
    "# Preprocessing for Sequential Models"
   ]
  },
  {
   "cell_type": "code",
   "execution_count": 3,
   "metadata": {
    "execution": {
     "iopub.execute_input": "2025-08-31T19:02:23.590644Z",
     "iopub.status.busy": "2025-08-31T19:02:23.590211Z",
     "iopub.status.idle": "2025-08-31T19:02:27.329474Z",
     "shell.execute_reply": "2025-08-31T19:02:27.328733Z",
     "shell.execute_reply.started": "2025-08-31T19:02:23.590620Z"
    },
    "trusted": true
   },
   "outputs": [],
   "source": [
    "# cleaning\n",
    "def clean_text(text):\n",
    "    import regex as re\n",
    "    text = text.lower()\n",
    "    text = re.sub(r'[^a-zA-Z\\s]', '', text)\n",
    "    return text\n",
    "\n",
    "# train set cleaning\n",
    "X_train['transformed_title'] = X_train['title'].apply(clean_text)\n",
    "X_train['transformed_text'] = X_train['text'].apply(clean_text)\n",
    "X_train['transformed_text_title_combined'] = X_train['transformed_text'] + \" \" + X_train['transformed_title']\n",
    "\n",
    "# test set cleaning\n",
    "X_test['transformed_title'] = X_test['title'].apply(clean_text)\n",
    "X_test['transformed_text'] = X_test['text'].apply(clean_text)\n",
    "X_test['transformed_text_title_combined'] = X_test['transformed_text'] + \" \" + X_test['transformed_title']"
   ]
  },
  {
   "cell_type": "code",
   "execution_count": 4,
   "metadata": {
    "execution": {
     "iopub.execute_input": "2025-08-31T19:02:27.331449Z",
     "iopub.status.busy": "2025-08-31T19:02:27.331124Z",
     "iopub.status.idle": "2025-08-31T19:02:27.354791Z",
     "shell.execute_reply": "2025-08-31T19:02:27.353996Z",
     "shell.execute_reply.started": "2025-08-31T19:02:27.331427Z"
    },
    "trusted": true
   },
   "outputs": [
    {
     "data": {
      "text/html": [
       "<div>\n",
       "<style scoped>\n",
       "    .dataframe tbody tr th:only-of-type {\n",
       "        vertical-align: middle;\n",
       "    }\n",
       "\n",
       "    .dataframe tbody tr th {\n",
       "        vertical-align: top;\n",
       "    }\n",
       "\n",
       "    .dataframe thead th {\n",
       "        text-align: right;\n",
       "    }\n",
       "</style>\n",
       "<table border=\"1\" class=\"dataframe\">\n",
       "  <thead>\n",
       "    <tr style=\"text-align: right;\">\n",
       "      <th></th>\n",
       "      <th>title</th>\n",
       "      <th>text</th>\n",
       "      <th>transformed_title</th>\n",
       "      <th>transformed_text</th>\n",
       "      <th>transformed_text_title_combined</th>\n",
       "    </tr>\n",
       "  </thead>\n",
       "  <tbody>\n",
       "    <tr>\n",
       "      <th>10404</th>\n",
       "      <td>BIZARRE! NANCY PELOSI Can’t Stop Giggling Abou...</td>\n",
       "      <td>Nancy Pelosi had a strange reaction to a repor...</td>\n",
       "      <td>bizarre nancy pelosi cant stop giggling about ...</td>\n",
       "      <td>nancy pelosi had a strange reaction to a repor...</td>\n",
       "      <td>nancy pelosi had a strange reaction to a repor...</td>\n",
       "    </tr>\n",
       "  </tbody>\n",
       "</table>\n",
       "</div>"
      ],
      "text/plain": [
       "                                                   title  \\\n",
       "10404  BIZARRE! NANCY PELOSI Can’t Stop Giggling Abou...   \n",
       "\n",
       "                                                    text  \\\n",
       "10404  Nancy Pelosi had a strange reaction to a repor...   \n",
       "\n",
       "                                       transformed_title  \\\n",
       "10404  bizarre nancy pelosi cant stop giggling about ...   \n",
       "\n",
       "                                        transformed_text  \\\n",
       "10404  nancy pelosi had a strange reaction to a repor...   \n",
       "\n",
       "                         transformed_text_title_combined  \n",
       "10404  nancy pelosi had a strange reaction to a repor...  "
      ]
     },
     "execution_count": 4,
     "metadata": {},
     "output_type": "execute_result"
    }
   ],
   "source": [
    "X_train.sample()"
   ]
  },
  {
   "cell_type": "code",
   "execution_count": 5,
   "metadata": {
    "execution": {
     "iopub.execute_input": "2025-08-31T19:02:27.356052Z",
     "iopub.status.busy": "2025-08-31T19:02:27.355702Z",
     "iopub.status.idle": "2025-08-31T19:02:27.366418Z",
     "shell.execute_reply": "2025-08-31T19:02:27.365488Z",
     "shell.execute_reply.started": "2025-08-31T19:02:27.356023Z"
    },
    "trusted": true
   },
   "outputs": [
    {
     "data": {
      "text/html": [
       "<div>\n",
       "<style scoped>\n",
       "    .dataframe tbody tr th:only-of-type {\n",
       "        vertical-align: middle;\n",
       "    }\n",
       "\n",
       "    .dataframe tbody tr th {\n",
       "        vertical-align: top;\n",
       "    }\n",
       "\n",
       "    .dataframe thead th {\n",
       "        text-align: right;\n",
       "    }\n",
       "</style>\n",
       "<table border=\"1\" class=\"dataframe\">\n",
       "  <thead>\n",
       "    <tr style=\"text-align: right;\">\n",
       "      <th></th>\n",
       "      <th>title</th>\n",
       "      <th>text</th>\n",
       "      <th>transformed_title</th>\n",
       "      <th>transformed_text</th>\n",
       "      <th>transformed_text_title_combined</th>\n",
       "    </tr>\n",
       "  </thead>\n",
       "  <tbody>\n",
       "    <tr>\n",
       "      <th>35777</th>\n",
       "      <td>Nazareth cuts back Christmas celebrations to p...</td>\n",
       "      <td>JERUSALEM (Reuters) - Nazareth, the Israeli Ar...</td>\n",
       "      <td>nazareth cuts back christmas celebrations to p...</td>\n",
       "      <td>jerusalem reuters  nazareth the israeli arab c...</td>\n",
       "      <td>jerusalem reuters  nazareth the israeli arab c...</td>\n",
       "    </tr>\n",
       "  </tbody>\n",
       "</table>\n",
       "</div>"
      ],
      "text/plain": [
       "                                                   title  \\\n",
       "35777  Nazareth cuts back Christmas celebrations to p...   \n",
       "\n",
       "                                                    text  \\\n",
       "35777  JERUSALEM (Reuters) - Nazareth, the Israeli Ar...   \n",
       "\n",
       "                                       transformed_title  \\\n",
       "35777  nazareth cuts back christmas celebrations to p...   \n",
       "\n",
       "                                        transformed_text  \\\n",
       "35777  jerusalem reuters  nazareth the israeli arab c...   \n",
       "\n",
       "                         transformed_text_title_combined  \n",
       "35777  jerusalem reuters  nazareth the israeli arab c...  "
      ]
     },
     "execution_count": 5,
     "metadata": {},
     "output_type": "execute_result"
    }
   ],
   "source": [
    "X_test.sample()"
   ]
  },
  {
   "cell_type": "code",
   "execution_count": 6,
   "metadata": {
    "execution": {
     "iopub.execute_input": "2025-08-31T19:02:27.367559Z",
     "iopub.status.busy": "2025-08-31T19:02:27.367271Z",
     "iopub.status.idle": "2025-08-31T19:02:27.384730Z",
     "shell.execute_reply": "2025-08-31T19:02:27.383870Z",
     "shell.execute_reply.started": "2025-08-31T19:02:27.367537Z"
    },
    "trusted": true
   },
   "outputs": [],
   "source": [
    "import warnings\n",
    "warnings.filterwarnings('ignore')"
   ]
  },
  {
   "cell_type": "code",
   "execution_count": 7,
   "metadata": {
    "execution": {
     "iopub.execute_input": "2025-08-31T19:02:27.385908Z",
     "iopub.status.busy": "2025-08-31T19:02:27.385627Z",
     "iopub.status.idle": "2025-08-31T19:02:53.425281Z",
     "shell.execute_reply": "2025-08-31T19:02:53.424313Z",
     "shell.execute_reply.started": "2025-08-31T19:02:27.385881Z"
    },
    "trusted": true
   },
   "outputs": [
    {
     "name": "stderr",
     "output_type": "stream",
     "text": [
      "2025-08-31 19:02:29.190643: E external/local_xla/xla/stream_executor/cuda/cuda_fft.cc:477] Unable to register cuFFT factory: Attempting to register factory for plugin cuFFT when one has already been registered\n",
      "WARNING: All log messages before absl::InitializeLog() is called are written to STDERR\n",
      "E0000 00:00:1756666949.415451      36 cuda_dnn.cc:8310] Unable to register cuDNN factory: Attempting to register factory for plugin cuDNN when one has already been registered\n",
      "E0000 00:00:1756666949.483324      36 cuda_blas.cc:1418] Unable to register cuBLAS factory: Attempting to register factory for plugin cuBLAS when one has already been registered\n"
     ]
    }
   ],
   "source": [
    "# Vocabulary Building\n",
    "from tensorflow.keras.preprocessing.text import Tokenizer\n",
    "max_words = 10000\n",
    "tokenizer = Tokenizer(num_words=max_words, oov_token='<UNK>')\n",
    "tokenizer.fit_on_texts(X_train['transformed_text_title_combined'])"
   ]
  },
  {
   "cell_type": "code",
   "execution_count": 8,
   "metadata": {
    "execution": {
     "iopub.execute_input": "2025-08-31T19:02:53.427041Z",
     "iopub.status.busy": "2025-08-31T19:02:53.426505Z",
     "iopub.status.idle": "2025-08-31T19:02:53.475169Z",
     "shell.execute_reply": "2025-08-31T19:02:53.474479Z",
     "shell.execute_reply.started": "2025-08-31T19:02:53.427015Z"
    },
    "trusted": true
   },
   "outputs": [
    {
     "name": "stdout",
     "output_type": "stream",
     "text": [
      "<UNK> 1\n",
      "the 2\n",
      "to 3\n",
      "of 4\n",
      "a 5\n",
      "and 6\n",
      "in 7\n",
      "that 8\n",
      "on 9\n",
      "for 10\n"
     ]
    }
   ],
   "source": [
    "# Print top 10 words\n",
    "for word, index in list(tokenizer.word_index.items())[:10]:\n",
    "    print(word, index)"
   ]
  },
  {
   "cell_type": "code",
   "execution_count": 9,
   "metadata": {
    "execution": {
     "iopub.execute_input": "2025-08-31T19:02:53.476276Z",
     "iopub.status.busy": "2025-08-31T19:02:53.475981Z",
     "iopub.status.idle": "2025-08-31T19:03:00.355143Z",
     "shell.execute_reply": "2025-08-31T19:03:00.354314Z",
     "shell.execute_reply.started": "2025-08-31T19:02:53.476256Z"
    },
    "trusted": true
   },
   "outputs": [],
   "source": [
    "X_train_seq = tokenizer.texts_to_sequences(X_train['transformed_text_title_combined'])\n",
    "X_test_seq = tokenizer.texts_to_sequences(X_test['transformed_text_title_combined'])"
   ]
  },
  {
   "cell_type": "code",
   "execution_count": 10,
   "metadata": {
    "execution": {
     "iopub.execute_input": "2025-08-31T19:03:00.357592Z",
     "iopub.status.busy": "2025-08-31T19:03:00.357330Z",
     "iopub.status.idle": "2025-08-31T19:03:00.362005Z",
     "shell.execute_reply": "2025-08-31T19:03:00.361072Z",
     "shell.execute_reply.started": "2025-08-31T19:03:00.357572Z"
    },
    "trusted": true
   },
   "outputs": [
    {
     "name": "stdout",
     "output_type": "stream",
     "text": [
      "[111, 69, 2, 85, 68, 9, 213, 14, 2, 31, 272, 2379, 269, 87, 108, 936, 488, 248, 12, 112, 3099, 21, 1310, 6, 109, 23, 391, 4, 126, 2067, 2, 602, 4, 130, 12, 1, 85, 68, 366, 3352, 3607, 88, 362, 28, 5, 601, 340, 1435, 428, 468, 8, 2, 31, 433, 228, 3759, 2124, 42, 5, 252, 17, 106, 38, 141, 71, 1152, 4, 936, 488, 3099, 21, 1310, 24, 636, 85, 68]\n"
     ]
    }
   ],
   "source": [
    "print(X_train_seq[0])"
   ]
  },
  {
   "cell_type": "code",
   "execution_count": 11,
   "metadata": {
    "execution": {
     "iopub.execute_input": "2025-08-31T19:03:00.363302Z",
     "iopub.status.busy": "2025-08-31T19:03:00.362902Z",
     "iopub.status.idle": "2025-08-31T19:03:00.383022Z",
     "shell.execute_reply": "2025-08-31T19:03:00.382214Z",
     "shell.execute_reply.started": "2025-08-31T19:03:00.363277Z"
    },
    "trusted": true
   },
   "outputs": [
    {
     "data": {
      "text/plain": [
       "76"
      ]
     },
     "execution_count": 11,
     "metadata": {},
     "output_type": "execute_result"
    }
   ],
   "source": [
    "len(X_train_seq[0])"
   ]
  },
  {
   "cell_type": "code",
   "execution_count": 12,
   "metadata": {
    "execution": {
     "iopub.execute_input": "2025-08-31T19:03:00.384440Z",
     "iopub.status.busy": "2025-08-31T19:03:00.384068Z",
     "iopub.status.idle": "2025-08-31T19:03:02.418223Z",
     "shell.execute_reply": "2025-08-31T19:03:02.417280Z",
     "shell.execute_reply.started": "2025-08-31T19:03:00.384418Z"
    },
    "trusted": true
   },
   "outputs": [
    {
     "data": {
      "text/plain": [
       "'washington reuters the white house on thursday said the us justice departments investigation into hillary clintons email use is being driven by facts and should be free of political interference the rule of law is <UNK> white house spokesman josh earnest told reporters at a daily press briefing following reports that the us attorney general loretta lynch had a meeting with former president bill clinton probe of clintons email driven by facts not politics white house'"
      ]
     },
     "execution_count": 12,
     "metadata": {},
     "output_type": "execute_result"
    }
   ],
   "source": [
    "decoded = tokenizer.sequences_to_texts(X_train_seq)\n",
    "decoded[0]"
   ]
  },
  {
   "cell_type": "code",
   "execution_count": 13,
   "metadata": {
    "execution": {
     "iopub.execute_input": "2025-08-31T19:03:02.419271Z",
     "iopub.status.busy": "2025-08-31T19:03:02.419028Z",
     "iopub.status.idle": "2025-08-31T19:03:03.015431Z",
     "shell.execute_reply": "2025-08-31T19:03:03.014648Z",
     "shell.execute_reply.started": "2025-08-31T19:03:02.419253Z"
    },
    "trusted": true
   },
   "outputs": [],
   "source": [
    "# sequence padding\n",
    "from tensorflow.keras.preprocessing.sequence import pad_sequences\n",
    "max_len = 200\n",
    "X_train_padded = pad_sequences(X_train_seq, maxlen=max_len)\n",
    "X_test_padded = pad_sequences(X_test_seq, maxlen=max_len)"
   ]
  },
  {
   "cell_type": "code",
   "execution_count": 14,
   "metadata": {
    "execution": {
     "iopub.execute_input": "2025-08-31T19:03:03.016700Z",
     "iopub.status.busy": "2025-08-31T19:03:03.016391Z",
     "iopub.status.idle": "2025-08-31T19:03:03.023818Z",
     "shell.execute_reply": "2025-08-31T19:03:03.023043Z",
     "shell.execute_reply.started": "2025-08-31T19:03:03.016672Z"
    },
    "trusted": true
   },
   "outputs": [
    {
     "data": {
      "text/plain": [
       "array([   0,    0,    0,    0,    0,    0,    0,    0,    0,    0,    0,\n",
       "          0,    0,    0,    0,    0,    0,    0,    0,    0,    0,    0,\n",
       "          0,    0,    0,    0,    0,    0,    0,    0,    0,    0,    0,\n",
       "          0,    0,    0,    0,    0,    0,    0,    0,    0,    0,    0,\n",
       "          0,    0,    0,    0,    0,    0,    0,    0,    0,    0,    0,\n",
       "          0,    0,    0,    0,    0,    0,    0,    0,    0,    0,    0,\n",
       "          0,    0,    0,    0,    0,    0,    0,    0,    0,    0,    0,\n",
       "          0,    0,    0,    0,    0,    0,    0,    0,    0,    0,    0,\n",
       "          0,    0,    0,    0,    0,    0,    0,    0,    0,    0,    0,\n",
       "          0,    0,    0,    0,    0,    0,    0,    0,    0,    0,    0,\n",
       "          0,    0,    0,    0,    0,    0,    0,    0,    0,    0,    0,\n",
       "          0,    0,    0,  111,   69,    2,   85,   68,    9,  213,   14,\n",
       "          2,   31,  272, 2379,  269,   87,  108,  936,  488,  248,   12,\n",
       "        112, 3099,   21, 1310,    6,  109,   23,  391,    4,  126, 2067,\n",
       "          2,  602,    4,  130,   12,    1,   85,   68,  366, 3352, 3607,\n",
       "         88,  362,   28,    5,  601,  340, 1435,  428,  468,    8,    2,\n",
       "         31,  433,  228, 3759, 2124,   42,    5,  252,   17,  106,   38,\n",
       "        141,   71, 1152,    4,  936,  488, 3099,   21, 1310,   24,  636,\n",
       "         85,   68], dtype=int32)"
      ]
     },
     "execution_count": 14,
     "metadata": {},
     "output_type": "execute_result"
    }
   ],
   "source": [
    "X_train_padded[0]"
   ]
  },
  {
   "cell_type": "markdown",
   "metadata": {},
   "source": [
    "# Sequential Models"
   ]
  },
  {
   "cell_type": "markdown",
   "metadata": {},
   "source": [
    "- RNN\n",
    "- GRU\n",
    "- LSTM"
   ]
  },
  {
   "cell_type": "code",
   "execution_count": 15,
   "metadata": {
    "execution": {
     "iopub.execute_input": "2025-08-31T19:03:03.025148Z",
     "iopub.status.busy": "2025-08-31T19:03:03.024649Z",
     "iopub.status.idle": "2025-08-31T19:03:03.040723Z",
     "shell.execute_reply": "2025-08-31T19:03:03.039761Z",
     "shell.execute_reply.started": "2025-08-31T19:03:03.025120Z"
    },
    "trusted": true
   },
   "outputs": [
    {
     "name": "stdout",
     "output_type": "stream",
     "text": [
      "Shape of padded training data: (35918, 200)\n",
      "Shape of padded test data: (8980, 200)\n"
     ]
    }
   ],
   "source": [
    "print(f\"Shape of padded training data: {X_train_padded.shape}\") \n",
    "print(f\"Shape of padded test data: {X_test_padded.shape}\")"
   ]
  },
  {
   "cell_type": "code",
   "execution_count": 16,
   "metadata": {
    "execution": {
     "iopub.execute_input": "2025-08-31T19:03:03.042092Z",
     "iopub.status.busy": "2025-08-31T19:03:03.041698Z",
     "iopub.status.idle": "2025-08-31T19:03:03.066182Z",
     "shell.execute_reply": "2025-08-31T19:03:03.065243Z",
     "shell.execute_reply.started": "2025-08-31T19:03:03.042063Z"
    },
    "trusted": true
   },
   "outputs": [],
   "source": [
    "from tensorflow.keras.models import Sequential\n",
    "from tensorflow.keras.layers import Embedding, SimpleRNN, LSTM, GRU, Dense\n",
    "\n",
    "# RNN\n",
    "def create_rnn_model(max_words, embedding_dim, input_length):\n",
    "    model = Sequential()\n",
    "    model.add(Embedding(input_dim=max_words, output_dim=embedding_dim, input_length=input_length))\n",
    "    model.add(SimpleRNN(units=128))\n",
    "    model.add(Dense(1, activation='sigmoid'))\n",
    "    model.compile(loss='binary_crossentropy', optimizer='adam', metrics=['accuracy'])\n",
    "    return model\n",
    "\n",
    "# LSTM\n",
    "def create_lstm_model(max_words, embedding_dim, input_length):\n",
    "    model = Sequential()\n",
    "    model.add(Embedding(input_dim=max_words, output_dim=embedding_dim, input_length=input_length))\n",
    "    model.add(LSTM(units=128))\n",
    "    model.add(Dense(1, activation='sigmoid'))\n",
    "    model.compile(loss='binary_crossentropy', optimizer='adam', metrics=['accuracy'])\n",
    "    return model\n",
    "\n",
    "# GRU\n",
    "def create_gru_model(max_words, embedding_dim, input_length):\n",
    "    model = Sequential()\n",
    "    model.add(Embedding(input_dim=max_words, output_dim=embedding_dim, input_length=input_length))\n",
    "    model.add(GRU(units=128))\n",
    "    model.add(Dense(1, activation='sigmoid'))\n",
    "    model.compile(loss='binary_crossentropy', optimizer='adam', metrics=['accuracy'])\n",
    "    return model\n"
   ]
  },
  {
   "cell_type": "code",
   "execution_count": 17,
   "metadata": {
    "execution": {
     "iopub.execute_input": "2025-08-31T19:03:03.067392Z",
     "iopub.status.busy": "2025-08-31T19:03:03.067114Z",
     "iopub.status.idle": "2025-08-31T19:25:09.344222Z",
     "shell.execute_reply": "2025-08-31T19:25:09.343551Z",
     "shell.execute_reply.started": "2025-08-31T19:03:03.067366Z"
    },
    "trusted": true
   },
   "outputs": [
    {
     "name": "stdout",
     "output_type": "stream",
     "text": [
      "Training RNN model...\n",
      "Epoch 1/5\n"
     ]
    },
    {
     "name": "stderr",
     "output_type": "stream",
     "text": [
      "2025-08-31 19:03:03.089504: E external/local_xla/xla/stream_executor/cuda/cuda_driver.cc:152] failed call to cuInit: INTERNAL: CUDA error: Failed call to cuInit: UNKNOWN ERROR (303)\n"
     ]
    },
    {
     "name": "stdout",
     "output_type": "stream",
     "text": [
      "\u001b[1m449/449\u001b[0m \u001b[32m━━━━━━━━━━━━━━━━━━━━\u001b[0m\u001b[37m\u001b[0m \u001b[1m36s\u001b[0m 73ms/step - accuracy: 0.7633 - loss: 0.4646 - val_accuracy: 0.9809 - val_loss: 0.0540\n",
      "Epoch 2/5\n",
      "\u001b[1m449/449\u001b[0m \u001b[32m━━━━━━━━━━━━━━━━━━━━\u001b[0m\u001b[37m\u001b[0m \u001b[1m33s\u001b[0m 72ms/step - accuracy: 0.9895 - loss: 0.0343 - val_accuracy: 0.9797 - val_loss: 0.0679\n",
      "Epoch 3/5\n",
      "\u001b[1m449/449\u001b[0m \u001b[32m━━━━━━━━━━━━━━━━━━━━\u001b[0m\u001b[37m\u001b[0m \u001b[1m33s\u001b[0m 73ms/step - accuracy: 0.9940 - loss: 0.0207 - val_accuracy: 0.9836 - val_loss: 0.0528\n",
      "Epoch 4/5\n",
      "\u001b[1m449/449\u001b[0m \u001b[32m━━━━━━━━━━━━━━━━━━━━\u001b[0m\u001b[37m\u001b[0m \u001b[1m33s\u001b[0m 73ms/step - accuracy: 0.9976 - loss: 0.0075 - val_accuracy: 0.9884 - val_loss: 0.0407\n",
      "Epoch 5/5\n",
      "\u001b[1m449/449\u001b[0m \u001b[32m━━━━━━━━━━━━━━━━━━━━\u001b[0m\u001b[37m\u001b[0m \u001b[1m33s\u001b[0m 73ms/step - accuracy: 0.9978 - loss: 0.0081 - val_accuracy: 0.9868 - val_loss: 0.0502\n"
     ]
    },
    {
     "data": {
      "text/html": [
       "<pre style=\"white-space:pre;overflow-x:auto;line-height:normal;font-family:Menlo,'DejaVu Sans Mono',consolas,'Courier New',monospace\"><span style=\"font-weight: bold\">Model: \"sequential\"</span>\n",
       "</pre>\n"
      ],
      "text/plain": [
       "\u001b[1mModel: \"sequential\"\u001b[0m\n"
      ]
     },
     "metadata": {},
     "output_type": "display_data"
    },
    {
     "data": {
      "text/html": [
       "<pre style=\"white-space:pre;overflow-x:auto;line-height:normal;font-family:Menlo,'DejaVu Sans Mono',consolas,'Courier New',monospace\">┏━━━━━━━━━━━━━━━━━━━━━━━━━━━━━━━━━┳━━━━━━━━━━━━━━━━━━━━━━━━┳━━━━━━━━━━━━━━━┓\n",
       "┃<span style=\"font-weight: bold\"> Layer (type)                    </span>┃<span style=\"font-weight: bold\"> Output Shape           </span>┃<span style=\"font-weight: bold\">       Param # </span>┃\n",
       "┡━━━━━━━━━━━━━━━━━━━━━━━━━━━━━━━━━╇━━━━━━━━━━━━━━━━━━━━━━━━╇━━━━━━━━━━━━━━━┩\n",
       "│ embedding (<span style=\"color: #0087ff; text-decoration-color: #0087ff\">Embedding</span>)           │ (<span style=\"color: #00d7ff; text-decoration-color: #00d7ff\">None</span>, <span style=\"color: #00af00; text-decoration-color: #00af00\">200</span>, <span style=\"color: #00af00; text-decoration-color: #00af00\">128</span>)       │     <span style=\"color: #00af00; text-decoration-color: #00af00\">1,280,000</span> │\n",
       "├─────────────────────────────────┼────────────────────────┼───────────────┤\n",
       "│ simple_rnn (<span style=\"color: #0087ff; text-decoration-color: #0087ff\">SimpleRNN</span>)          │ (<span style=\"color: #00d7ff; text-decoration-color: #00d7ff\">None</span>, <span style=\"color: #00af00; text-decoration-color: #00af00\">128</span>)            │        <span style=\"color: #00af00; text-decoration-color: #00af00\">32,896</span> │\n",
       "├─────────────────────────────────┼────────────────────────┼───────────────┤\n",
       "│ dense (<span style=\"color: #0087ff; text-decoration-color: #0087ff\">Dense</span>)                   │ (<span style=\"color: #00d7ff; text-decoration-color: #00d7ff\">None</span>, <span style=\"color: #00af00; text-decoration-color: #00af00\">1</span>)              │           <span style=\"color: #00af00; text-decoration-color: #00af00\">129</span> │\n",
       "└─────────────────────────────────┴────────────────────────┴───────────────┘\n",
       "</pre>\n"
      ],
      "text/plain": [
       "┏━━━━━━━━━━━━━━━━━━━━━━━━━━━━━━━━━┳━━━━━━━━━━━━━━━━━━━━━━━━┳━━━━━━━━━━━━━━━┓\n",
       "┃\u001b[1m \u001b[0m\u001b[1mLayer (type)                   \u001b[0m\u001b[1m \u001b[0m┃\u001b[1m \u001b[0m\u001b[1mOutput Shape          \u001b[0m\u001b[1m \u001b[0m┃\u001b[1m \u001b[0m\u001b[1m      Param #\u001b[0m\u001b[1m \u001b[0m┃\n",
       "┡━━━━━━━━━━━━━━━━━━━━━━━━━━━━━━━━━╇━━━━━━━━━━━━━━━━━━━━━━━━╇━━━━━━━━━━━━━━━┩\n",
       "│ embedding (\u001b[38;5;33mEmbedding\u001b[0m)           │ (\u001b[38;5;45mNone\u001b[0m, \u001b[38;5;34m200\u001b[0m, \u001b[38;5;34m128\u001b[0m)       │     \u001b[38;5;34m1,280,000\u001b[0m │\n",
       "├─────────────────────────────────┼────────────────────────┼───────────────┤\n",
       "│ simple_rnn (\u001b[38;5;33mSimpleRNN\u001b[0m)          │ (\u001b[38;5;45mNone\u001b[0m, \u001b[38;5;34m128\u001b[0m)            │        \u001b[38;5;34m32,896\u001b[0m │\n",
       "├─────────────────────────────────┼────────────────────────┼───────────────┤\n",
       "│ dense (\u001b[38;5;33mDense\u001b[0m)                   │ (\u001b[38;5;45mNone\u001b[0m, \u001b[38;5;34m1\u001b[0m)              │           \u001b[38;5;34m129\u001b[0m │\n",
       "└─────────────────────────────────┴────────────────────────┴───────────────┘\n"
      ]
     },
     "metadata": {},
     "output_type": "display_data"
    },
    {
     "data": {
      "text/html": [
       "<pre style=\"white-space:pre;overflow-x:auto;line-height:normal;font-family:Menlo,'DejaVu Sans Mono',consolas,'Courier New',monospace\"><span style=\"font-weight: bold\"> Total params: </span><span style=\"color: #00af00; text-decoration-color: #00af00\">3,939,077</span> (15.03 MB)\n",
       "</pre>\n"
      ],
      "text/plain": [
       "\u001b[1m Total params: \u001b[0m\u001b[38;5;34m3,939,077\u001b[0m (15.03 MB)\n"
      ]
     },
     "metadata": {},
     "output_type": "display_data"
    },
    {
     "data": {
      "text/html": [
       "<pre style=\"white-space:pre;overflow-x:auto;line-height:normal;font-family:Menlo,'DejaVu Sans Mono',consolas,'Courier New',monospace\"><span style=\"font-weight: bold\"> Trainable params: </span><span style=\"color: #00af00; text-decoration-color: #00af00\">1,313,025</span> (5.01 MB)\n",
       "</pre>\n"
      ],
      "text/plain": [
       "\u001b[1m Trainable params: \u001b[0m\u001b[38;5;34m1,313,025\u001b[0m (5.01 MB)\n"
      ]
     },
     "metadata": {},
     "output_type": "display_data"
    },
    {
     "data": {
      "text/html": [
       "<pre style=\"white-space:pre;overflow-x:auto;line-height:normal;font-family:Menlo,'DejaVu Sans Mono',consolas,'Courier New',monospace\"><span style=\"font-weight: bold\"> Non-trainable params: </span><span style=\"color: #00af00; text-decoration-color: #00af00\">0</span> (0.00 B)\n",
       "</pre>\n"
      ],
      "text/plain": [
       "\u001b[1m Non-trainable params: \u001b[0m\u001b[38;5;34m0\u001b[0m (0.00 B)\n"
      ]
     },
     "metadata": {},
     "output_type": "display_data"
    },
    {
     "data": {
      "text/html": [
       "<pre style=\"white-space:pre;overflow-x:auto;line-height:normal;font-family:Menlo,'DejaVu Sans Mono',consolas,'Courier New',monospace\"><span style=\"font-weight: bold\"> Optimizer params: </span><span style=\"color: #00af00; text-decoration-color: #00af00\">2,626,052</span> (10.02 MB)\n",
       "</pre>\n"
      ],
      "text/plain": [
       "\u001b[1m Optimizer params: \u001b[0m\u001b[38;5;34m2,626,052\u001b[0m (10.02 MB)\n"
      ]
     },
     "metadata": {},
     "output_type": "display_data"
    },
    {
     "name": "stdout",
     "output_type": "stream",
     "text": [
      "None\n",
      "Training LSTM model...\n",
      "Epoch 1/5\n",
      "\u001b[1m449/449\u001b[0m \u001b[32m━━━━━━━━━━━━━━━━━━━━\u001b[0m\u001b[37m\u001b[0m \u001b[1m120s\u001b[0m 258ms/step - accuracy: 0.9066 - loss: 0.2026 - val_accuracy: 0.9876 - val_loss: 0.0361\n",
      "Epoch 2/5\n",
      "\u001b[1m449/449\u001b[0m \u001b[32m━━━━━━━━━━━━━━━━━━━━\u001b[0m\u001b[37m\u001b[0m \u001b[1m115s\u001b[0m 256ms/step - accuracy: 0.9959 - loss: 0.0137 - val_accuracy: 0.9876 - val_loss: 0.0381\n",
      "Epoch 3/5\n",
      "\u001b[1m449/449\u001b[0m \u001b[32m━━━━━━━━━━━━━━━━━━━━\u001b[0m\u001b[37m\u001b[0m \u001b[1m117s\u001b[0m 261ms/step - accuracy: 0.9970 - loss: 0.0096 - val_accuracy: 0.9866 - val_loss: 0.0461\n",
      "Epoch 4/5\n",
      "\u001b[1m449/449\u001b[0m \u001b[32m━━━━━━━━━━━━━━━━━━━━\u001b[0m\u001b[37m\u001b[0m \u001b[1m115s\u001b[0m 257ms/step - accuracy: 0.9973 - loss: 0.0076 - val_accuracy: 0.9861 - val_loss: 0.0450\n",
      "Epoch 5/5\n",
      "\u001b[1m449/449\u001b[0m \u001b[32m━━━━━━━━━━━━━━━━━━━━\u001b[0m\u001b[37m\u001b[0m \u001b[1m116s\u001b[0m 259ms/step - accuracy: 0.9998 - loss: 0.0013 - val_accuracy: 0.9854 - val_loss: 0.0555\n"
     ]
    },
    {
     "data": {
      "text/html": [
       "<pre style=\"white-space:pre;overflow-x:auto;line-height:normal;font-family:Menlo,'DejaVu Sans Mono',consolas,'Courier New',monospace\"><span style=\"font-weight: bold\">Model: \"sequential_1\"</span>\n",
       "</pre>\n"
      ],
      "text/plain": [
       "\u001b[1mModel: \"sequential_1\"\u001b[0m\n"
      ]
     },
     "metadata": {},
     "output_type": "display_data"
    },
    {
     "data": {
      "text/html": [
       "<pre style=\"white-space:pre;overflow-x:auto;line-height:normal;font-family:Menlo,'DejaVu Sans Mono',consolas,'Courier New',monospace\">┏━━━━━━━━━━━━━━━━━━━━━━━━━━━━━━━━━┳━━━━━━━━━━━━━━━━━━━━━━━━┳━━━━━━━━━━━━━━━┓\n",
       "┃<span style=\"font-weight: bold\"> Layer (type)                    </span>┃<span style=\"font-weight: bold\"> Output Shape           </span>┃<span style=\"font-weight: bold\">       Param # </span>┃\n",
       "┡━━━━━━━━━━━━━━━━━━━━━━━━━━━━━━━━━╇━━━━━━━━━━━━━━━━━━━━━━━━╇━━━━━━━━━━━━━━━┩\n",
       "│ embedding_1 (<span style=\"color: #0087ff; text-decoration-color: #0087ff\">Embedding</span>)         │ (<span style=\"color: #00d7ff; text-decoration-color: #00d7ff\">None</span>, <span style=\"color: #00af00; text-decoration-color: #00af00\">200</span>, <span style=\"color: #00af00; text-decoration-color: #00af00\">128</span>)       │     <span style=\"color: #00af00; text-decoration-color: #00af00\">1,280,000</span> │\n",
       "├─────────────────────────────────┼────────────────────────┼───────────────┤\n",
       "│ lstm (<span style=\"color: #0087ff; text-decoration-color: #0087ff\">LSTM</span>)                     │ (<span style=\"color: #00d7ff; text-decoration-color: #00d7ff\">None</span>, <span style=\"color: #00af00; text-decoration-color: #00af00\">128</span>)            │       <span style=\"color: #00af00; text-decoration-color: #00af00\">131,584</span> │\n",
       "├─────────────────────────────────┼────────────────────────┼───────────────┤\n",
       "│ dense_1 (<span style=\"color: #0087ff; text-decoration-color: #0087ff\">Dense</span>)                 │ (<span style=\"color: #00d7ff; text-decoration-color: #00d7ff\">None</span>, <span style=\"color: #00af00; text-decoration-color: #00af00\">1</span>)              │           <span style=\"color: #00af00; text-decoration-color: #00af00\">129</span> │\n",
       "└─────────────────────────────────┴────────────────────────┴───────────────┘\n",
       "</pre>\n"
      ],
      "text/plain": [
       "┏━━━━━━━━━━━━━━━━━━━━━━━━━━━━━━━━━┳━━━━━━━━━━━━━━━━━━━━━━━━┳━━━━━━━━━━━━━━━┓\n",
       "┃\u001b[1m \u001b[0m\u001b[1mLayer (type)                   \u001b[0m\u001b[1m \u001b[0m┃\u001b[1m \u001b[0m\u001b[1mOutput Shape          \u001b[0m\u001b[1m \u001b[0m┃\u001b[1m \u001b[0m\u001b[1m      Param #\u001b[0m\u001b[1m \u001b[0m┃\n",
       "┡━━━━━━━━━━━━━━━━━━━━━━━━━━━━━━━━━╇━━━━━━━━━━━━━━━━━━━━━━━━╇━━━━━━━━━━━━━━━┩\n",
       "│ embedding_1 (\u001b[38;5;33mEmbedding\u001b[0m)         │ (\u001b[38;5;45mNone\u001b[0m, \u001b[38;5;34m200\u001b[0m, \u001b[38;5;34m128\u001b[0m)       │     \u001b[38;5;34m1,280,000\u001b[0m │\n",
       "├─────────────────────────────────┼────────────────────────┼───────────────┤\n",
       "│ lstm (\u001b[38;5;33mLSTM\u001b[0m)                     │ (\u001b[38;5;45mNone\u001b[0m, \u001b[38;5;34m128\u001b[0m)            │       \u001b[38;5;34m131,584\u001b[0m │\n",
       "├─────────────────────────────────┼────────────────────────┼───────────────┤\n",
       "│ dense_1 (\u001b[38;5;33mDense\u001b[0m)                 │ (\u001b[38;5;45mNone\u001b[0m, \u001b[38;5;34m1\u001b[0m)              │           \u001b[38;5;34m129\u001b[0m │\n",
       "└─────────────────────────────────┴────────────────────────┴───────────────┘\n"
      ]
     },
     "metadata": {},
     "output_type": "display_data"
    },
    {
     "data": {
      "text/html": [
       "<pre style=\"white-space:pre;overflow-x:auto;line-height:normal;font-family:Menlo,'DejaVu Sans Mono',consolas,'Courier New',monospace\"><span style=\"font-weight: bold\"> Total params: </span><span style=\"color: #00af00; text-decoration-color: #00af00\">4,235,141</span> (16.16 MB)\n",
       "</pre>\n"
      ],
      "text/plain": [
       "\u001b[1m Total params: \u001b[0m\u001b[38;5;34m4,235,141\u001b[0m (16.16 MB)\n"
      ]
     },
     "metadata": {},
     "output_type": "display_data"
    },
    {
     "data": {
      "text/html": [
       "<pre style=\"white-space:pre;overflow-x:auto;line-height:normal;font-family:Menlo,'DejaVu Sans Mono',consolas,'Courier New',monospace\"><span style=\"font-weight: bold\"> Trainable params: </span><span style=\"color: #00af00; text-decoration-color: #00af00\">1,411,713</span> (5.39 MB)\n",
       "</pre>\n"
      ],
      "text/plain": [
       "\u001b[1m Trainable params: \u001b[0m\u001b[38;5;34m1,411,713\u001b[0m (5.39 MB)\n"
      ]
     },
     "metadata": {},
     "output_type": "display_data"
    },
    {
     "data": {
      "text/html": [
       "<pre style=\"white-space:pre;overflow-x:auto;line-height:normal;font-family:Menlo,'DejaVu Sans Mono',consolas,'Courier New',monospace\"><span style=\"font-weight: bold\"> Non-trainable params: </span><span style=\"color: #00af00; text-decoration-color: #00af00\">0</span> (0.00 B)\n",
       "</pre>\n"
      ],
      "text/plain": [
       "\u001b[1m Non-trainable params: \u001b[0m\u001b[38;5;34m0\u001b[0m (0.00 B)\n"
      ]
     },
     "metadata": {},
     "output_type": "display_data"
    },
    {
     "data": {
      "text/html": [
       "<pre style=\"white-space:pre;overflow-x:auto;line-height:normal;font-family:Menlo,'DejaVu Sans Mono',consolas,'Courier New',monospace\"><span style=\"font-weight: bold\"> Optimizer params: </span><span style=\"color: #00af00; text-decoration-color: #00af00\">2,823,428</span> (10.77 MB)\n",
       "</pre>\n"
      ],
      "text/plain": [
       "\u001b[1m Optimizer params: \u001b[0m\u001b[38;5;34m2,823,428\u001b[0m (10.77 MB)\n"
      ]
     },
     "metadata": {},
     "output_type": "display_data"
    },
    {
     "name": "stdout",
     "output_type": "stream",
     "text": [
      "None\n",
      "Training GRU model...\n",
      "Epoch 1/5\n",
      "\u001b[1m449/449\u001b[0m \u001b[32m━━━━━━━━━━━━━━━━━━━━\u001b[0m\u001b[37m\u001b[0m \u001b[1m118s\u001b[0m 253ms/step - accuracy: 0.8812 - loss: 0.2285 - val_accuracy: 0.9844 - val_loss: 0.0450\n",
      "Epoch 2/5\n",
      "\u001b[1m449/449\u001b[0m \u001b[32m━━━━━━━━━━━━━━━━━━━━\u001b[0m\u001b[37m\u001b[0m \u001b[1m113s\u001b[0m 251ms/step - accuracy: 0.9945 - loss: 0.0182 - val_accuracy: 0.9841 - val_loss: 0.0453\n",
      "Epoch 3/5\n",
      "\u001b[1m449/449\u001b[0m \u001b[32m━━━━━━━━━━━━━━━━━━━━\u001b[0m\u001b[37m\u001b[0m \u001b[1m115s\u001b[0m 256ms/step - accuracy: 0.9983 - loss: 0.0071 - val_accuracy: 0.9794 - val_loss: 0.0793\n",
      "Epoch 4/5\n",
      "\u001b[1m449/449\u001b[0m \u001b[32m━━━━━━━━━━━━━━━━━━━━\u001b[0m\u001b[37m\u001b[0m \u001b[1m113s\u001b[0m 252ms/step - accuracy: 0.9980 - loss: 0.0060 - val_accuracy: 0.9840 - val_loss: 0.0581\n",
      "Epoch 5/5\n",
      "\u001b[1m449/449\u001b[0m \u001b[32m━━━━━━━━━━━━━━━━━━━━\u001b[0m\u001b[37m\u001b[0m \u001b[1m116s\u001b[0m 259ms/step - accuracy: 0.9995 - loss: 0.0020 - val_accuracy: 0.9833 - val_loss: 0.0817\n"
     ]
    },
    {
     "data": {
      "text/html": [
       "<pre style=\"white-space:pre;overflow-x:auto;line-height:normal;font-family:Menlo,'DejaVu Sans Mono',consolas,'Courier New',monospace\"><span style=\"font-weight: bold\">Model: \"sequential_2\"</span>\n",
       "</pre>\n"
      ],
      "text/plain": [
       "\u001b[1mModel: \"sequential_2\"\u001b[0m\n"
      ]
     },
     "metadata": {},
     "output_type": "display_data"
    },
    {
     "data": {
      "text/html": [
       "<pre style=\"white-space:pre;overflow-x:auto;line-height:normal;font-family:Menlo,'DejaVu Sans Mono',consolas,'Courier New',monospace\">┏━━━━━━━━━━━━━━━━━━━━━━━━━━━━━━━━━┳━━━━━━━━━━━━━━━━━━━━━━━━┳━━━━━━━━━━━━━━━┓\n",
       "┃<span style=\"font-weight: bold\"> Layer (type)                    </span>┃<span style=\"font-weight: bold\"> Output Shape           </span>┃<span style=\"font-weight: bold\">       Param # </span>┃\n",
       "┡━━━━━━━━━━━━━━━━━━━━━━━━━━━━━━━━━╇━━━━━━━━━━━━━━━━━━━━━━━━╇━━━━━━━━━━━━━━━┩\n",
       "│ embedding_2 (<span style=\"color: #0087ff; text-decoration-color: #0087ff\">Embedding</span>)         │ (<span style=\"color: #00d7ff; text-decoration-color: #00d7ff\">None</span>, <span style=\"color: #00af00; text-decoration-color: #00af00\">200</span>, <span style=\"color: #00af00; text-decoration-color: #00af00\">128</span>)       │     <span style=\"color: #00af00; text-decoration-color: #00af00\">1,280,000</span> │\n",
       "├─────────────────────────────────┼────────────────────────┼───────────────┤\n",
       "│ gru (<span style=\"color: #0087ff; text-decoration-color: #0087ff\">GRU</span>)                       │ (<span style=\"color: #00d7ff; text-decoration-color: #00d7ff\">None</span>, <span style=\"color: #00af00; text-decoration-color: #00af00\">128</span>)            │        <span style=\"color: #00af00; text-decoration-color: #00af00\">99,072</span> │\n",
       "├─────────────────────────────────┼────────────────────────┼───────────────┤\n",
       "│ dense_2 (<span style=\"color: #0087ff; text-decoration-color: #0087ff\">Dense</span>)                 │ (<span style=\"color: #00d7ff; text-decoration-color: #00d7ff\">None</span>, <span style=\"color: #00af00; text-decoration-color: #00af00\">1</span>)              │           <span style=\"color: #00af00; text-decoration-color: #00af00\">129</span> │\n",
       "└─────────────────────────────────┴────────────────────────┴───────────────┘\n",
       "</pre>\n"
      ],
      "text/plain": [
       "┏━━━━━━━━━━━━━━━━━━━━━━━━━━━━━━━━━┳━━━━━━━━━━━━━━━━━━━━━━━━┳━━━━━━━━━━━━━━━┓\n",
       "┃\u001b[1m \u001b[0m\u001b[1mLayer (type)                   \u001b[0m\u001b[1m \u001b[0m┃\u001b[1m \u001b[0m\u001b[1mOutput Shape          \u001b[0m\u001b[1m \u001b[0m┃\u001b[1m \u001b[0m\u001b[1m      Param #\u001b[0m\u001b[1m \u001b[0m┃\n",
       "┡━━━━━━━━━━━━━━━━━━━━━━━━━━━━━━━━━╇━━━━━━━━━━━━━━━━━━━━━━━━╇━━━━━━━━━━━━━━━┩\n",
       "│ embedding_2 (\u001b[38;5;33mEmbedding\u001b[0m)         │ (\u001b[38;5;45mNone\u001b[0m, \u001b[38;5;34m200\u001b[0m, \u001b[38;5;34m128\u001b[0m)       │     \u001b[38;5;34m1,280,000\u001b[0m │\n",
       "├─────────────────────────────────┼────────────────────────┼───────────────┤\n",
       "│ gru (\u001b[38;5;33mGRU\u001b[0m)                       │ (\u001b[38;5;45mNone\u001b[0m, \u001b[38;5;34m128\u001b[0m)            │        \u001b[38;5;34m99,072\u001b[0m │\n",
       "├─────────────────────────────────┼────────────────────────┼───────────────┤\n",
       "│ dense_2 (\u001b[38;5;33mDense\u001b[0m)                 │ (\u001b[38;5;45mNone\u001b[0m, \u001b[38;5;34m1\u001b[0m)              │           \u001b[38;5;34m129\u001b[0m │\n",
       "└─────────────────────────────────┴────────────────────────┴───────────────┘\n"
      ]
     },
     "metadata": {},
     "output_type": "display_data"
    },
    {
     "data": {
      "text/html": [
       "<pre style=\"white-space:pre;overflow-x:auto;line-height:normal;font-family:Menlo,'DejaVu Sans Mono',consolas,'Courier New',monospace\"><span style=\"font-weight: bold\"> Total params: </span><span style=\"color: #00af00; text-decoration-color: #00af00\">4,137,605</span> (15.78 MB)\n",
       "</pre>\n"
      ],
      "text/plain": [
       "\u001b[1m Total params: \u001b[0m\u001b[38;5;34m4,137,605\u001b[0m (15.78 MB)\n"
      ]
     },
     "metadata": {},
     "output_type": "display_data"
    },
    {
     "data": {
      "text/html": [
       "<pre style=\"white-space:pre;overflow-x:auto;line-height:normal;font-family:Menlo,'DejaVu Sans Mono',consolas,'Courier New',monospace\"><span style=\"font-weight: bold\"> Trainable params: </span><span style=\"color: #00af00; text-decoration-color: #00af00\">1,379,201</span> (5.26 MB)\n",
       "</pre>\n"
      ],
      "text/plain": [
       "\u001b[1m Trainable params: \u001b[0m\u001b[38;5;34m1,379,201\u001b[0m (5.26 MB)\n"
      ]
     },
     "metadata": {},
     "output_type": "display_data"
    },
    {
     "data": {
      "text/html": [
       "<pre style=\"white-space:pre;overflow-x:auto;line-height:normal;font-family:Menlo,'DejaVu Sans Mono',consolas,'Courier New',monospace\"><span style=\"font-weight: bold\"> Non-trainable params: </span><span style=\"color: #00af00; text-decoration-color: #00af00\">0</span> (0.00 B)\n",
       "</pre>\n"
      ],
      "text/plain": [
       "\u001b[1m Non-trainable params: \u001b[0m\u001b[38;5;34m0\u001b[0m (0.00 B)\n"
      ]
     },
     "metadata": {},
     "output_type": "display_data"
    },
    {
     "data": {
      "text/html": [
       "<pre style=\"white-space:pre;overflow-x:auto;line-height:normal;font-family:Menlo,'DejaVu Sans Mono',consolas,'Courier New',monospace\"><span style=\"font-weight: bold\"> Optimizer params: </span><span style=\"color: #00af00; text-decoration-color: #00af00\">2,758,404</span> (10.52 MB)\n",
       "</pre>\n"
      ],
      "text/plain": [
       "\u001b[1m Optimizer params: \u001b[0m\u001b[38;5;34m2,758,404\u001b[0m (10.52 MB)\n"
      ]
     },
     "metadata": {},
     "output_type": "display_data"
    },
    {
     "name": "stdout",
     "output_type": "stream",
     "text": [
      "None\n"
     ]
    }
   ],
   "source": [
    "# Define model parameters\n",
    "max_words = 10000\n",
    "embedding_dim = 128\n",
    "input_length = 100\n",
    "epochs = 5\n",
    "batch_size = 64\n",
    "\n",
    "# Train RNN model\n",
    "rnn_model = create_rnn_model(max_words, embedding_dim, input_length)\n",
    "print(\"Training RNN model...\")\n",
    "rnn_history = rnn_model.fit(X_train_padded, y_train, epochs=epochs, batch_size=batch_size, validation_split=0.2)\n",
    "print(rnn_model.summary())\n",
    "\n",
    "# # Train LSTM model\n",
    "lstm_model = create_lstm_model(max_words, embedding_dim, input_length)\n",
    "print(\"Training LSTM model...\")\n",
    "lstm_history = lstm_model.fit(X_train_padded, y_train, epochs=epochs, batch_size=batch_size, validation_split=0.2)\n",
    "print(lstm_model.summary())\n",
    "\n",
    "# Train GRU model\n",
    "gru_model = create_gru_model(max_words, embedding_dim, input_length)\n",
    "print(\"Training GRU model...\")\n",
    "gru_history = gru_model.fit(X_train_padded, y_train, epochs=epochs, batch_size=batch_size, validation_split=0.2)\n",
    "print(gru_model.summary())"
   ]
  },
  {
   "cell_type": "code",
   "execution_count": 18,
   "metadata": {
    "execution": {
     "iopub.execute_input": "2025-08-31T19:25:16.075581Z",
     "iopub.status.busy": "2025-08-31T19:25:16.075172Z",
     "iopub.status.idle": "2025-08-31T19:25:17.364650Z",
     "shell.execute_reply": "2025-08-31T19:25:17.363621Z",
     "shell.execute_reply.started": "2025-08-31T19:25:16.075551Z"
    },
    "trusted": true
   },
   "outputs": [
    {
     "data": {
      "image/png": "[encoded data removed]",
      "text/plain": [
       "<Figure size 1200x400 with 2 Axes>"
      ]
     },
     "metadata": {},
     "output_type": "display_data"
    },
    {
     "data": {
      "image/png": "[encoded data removed]",
      "text/plain": [
       "<Figure size 1200x400 with 2 Axes>"
      ]
     },
     "metadata": {},
     "output_type": "display_data"
    },
    {
     "data": {
      "image/png": "[encoded data removed]",
      "text/plain": [
       "<Figure size 1200x400 with 2 Axes>"
      ]
     },
     "metadata": {},
     "output_type": "display_data"
    }
   ],
   "source": [
    "import matplotlib.pyplot as plt\n",
    "# Function to plot training history\n",
    "def plot_history(history, model_name):\n",
    "    # Plotting accuracy\n",
    "    plt.figure(figsize=(12, 4))\n",
    "\n",
    "    # Accuracy plot\n",
    "    plt.subplot(1, 2, 1)\n",
    "    plt.plot(history.history['accuracy'], label='Train Accuracy')\n",
    "    plt.plot(history.history['val_accuracy'], label='Validation Accuracy')\n",
    "    plt.title(f'{model_name} Accuracy')\n",
    "    plt.xlabel('Epochs')\n",
    "    plt.ylabel('Accuracy')\n",
    "    plt.legend()\n",
    "\n",
    "    # Loss plot\n",
    "    plt.subplot(1, 2, 2)\n",
    "    plt.plot(history.history['loss'], label='Train Loss')\n",
    "    plt.plot(history.history['val_loss'], label='Validation Loss')\n",
    "    plt.title(f'{model_name} Loss')\n",
    "    plt.xlabel('Epochs')\n",
    "    plt.ylabel('Loss')\n",
    "    plt.legend()\n",
    "\n",
    "    plt.show()\n",
    "\n",
    "# Plotting the training history for each model\n",
    "plot_history(rnn_history, 'RNN')\n",
    "plot_history(lstm_history, 'LSTM')\n",
    "plot_history(gru_history, 'GRU')\n"
   ]
  },
  {
   "cell_type": "code",
   "execution_count": 19,
   "metadata": {
    "execution": {
     "iopub.execute_input": "2025-08-31T19:25:36.465975Z",
     "iopub.status.busy": "2025-08-31T19:25:36.465622Z",
     "iopub.status.idle": "2025-08-31T19:26:13.989101Z",
     "shell.execute_reply": "2025-08-31T19:26:13.988236Z",
     "shell.execute_reply.started": "2025-08-31T19:25:36.465951Z"
    },
    "trusted": true
   },
   "outputs": [
    {
     "name": "stdout",
     "output_type": "stream",
     "text": [
      "Evaluating models...\n",
      "\u001b[1m281/281\u001b[0m \u001b[32m━━━━━━━━━━━━━━━━━━━━\u001b[0m\u001b[37m\u001b[0m \u001b[1m5s\u001b[0m 18ms/step - accuracy: 0.9860 - loss: 0.0505\n",
      "RNN Accuracy: 0.9860\n",
      "\u001b[1m281/281\u001b[0m \u001b[32m━━━━━━━━━━━━━━━━━━━━\u001b[0m\u001b[37m\u001b[0m \u001b[1m20s\u001b[0m 71ms/step - accuracy: 0.9856 - loss: 0.0489\n",
      "LSTM Accuracy: 0.9847\n",
      "\u001b[1m281/281\u001b[0m \u001b[32m━━━━━━━━━━━━━━━━━━━━\u001b[0m\u001b[37m\u001b[0m \u001b[1m12s\u001b[0m 44ms/step - accuracy: 0.9874 - loss: 0.0624\n",
      "GRU Accuracy: 0.9870\n"
     ]
    }
   ],
   "source": [
    "# Evaluate each model on the test set and print the accuracy\n",
    "print(\"Evaluating models...\")\n",
    "\n",
    "# Evaluate RNN model\n",
    "rnn_loss, rnn_accuracy = rnn_model.evaluate(X_test_padded, y_test)\n",
    "print(f\"RNN Accuracy: {rnn_accuracy:.4f}\")\n",
    "\n",
    "# # Evaluate LSTM model\n",
    "lstm_loss, lstm_accuracy = lstm_model.evaluate(X_test_padded, y_test)\n",
    "print(f\"LSTM Accuracy: {lstm_accuracy:.4f}\")\n",
    "\n",
    "# Evaluate GRU model\n",
    "gru_loss, gru_accuracy = gru_model.evaluate(X_test_padded, y_test)\n",
    "print(f\"GRU Accuracy: {gru_accuracy:.4f}\")"
   ]
  },
  {
   "cell_type": "code",
   "execution_count": 35,
   "metadata": {
    "execution": {
     "iopub.execute_input": "2025-08-31T19:37:06.491660Z",
     "iopub.status.busy": "2025-08-31T19:37:06.490753Z",
     "iopub.status.idle": "2025-08-31T19:37:06.611066Z",
     "shell.execute_reply": "2025-08-31T19:37:06.610110Z",
     "shell.execute_reply.started": "2025-08-31T19:37:06.491628Z"
    },
    "trusted": true
   },
   "outputs": [
    {
     "name": "stdout",
     "output_type": "stream",
     "text": [
      "\u001b[1m1/1\u001b[0m \u001b[32m━━━━━━━━━━━━━━━━━━━━\u001b[0m\u001b[37m\u001b[0m \u001b[1m0s\u001b[0m 54ms/step\n",
      "Text: Breaking: Government confirms new policy to reduce taxes starting next year.\n",
      "Predicted: True (0.0000035978)\n",
      "\n",
      "Text: Shocking news! Alien spaceship lands in New York and government covers it up.\n",
      "Predicted: Fake (0.0000014322)\n",
      "\n",
      "Text: President announces major healthcare reforms to support low-income families.\n",
      "Predicted: True (0.0000042320)\n",
      "\n",
      "Text: You won’t believe this! Miracle cure for cancer discovered in secret lab.\n",
      "Predicted: Fake (0.0000001406)\n",
      "\n"
     ]
    }
   ],
   "source": [
    "# Example test samples\n",
    "samples = [\n",
    "    \"Breaking: Government confirms new policy to reduce taxes starting next year.\",  # True-like\n",
    "    \"Shocking news! Alien spaceship lands in New York and government covers it up.\",  # Fake-like\n",
    "    \"President announces major healthcare reforms to support low-income families.\",  # True-like\n",
    "    \"You won’t believe this! Miracle cure for cancer discovered in secret lab.\",  # Fake-like\n",
    "]\n",
    "\n",
    "# Preprocess samples (apply same cleaning, tokenization, and padding)\n",
    "cleaned_samples = [clean_text(text) for text in samples]\n",
    "sequences = tokenizer.texts_to_sequences(cleaned_samples)\n",
    "padded = pad_sequences(sequences, maxlen=max_len)\n",
    "\n",
    "# Predict\n",
    "predictions = gru_model.predict(padded)\n",
    "\n",
    "for text, pred in zip(samples, predictions):\n",
    "    label = \"True\" if pred >= 0.000003 else \"Fake\"\n",
    "    print(f\"Text: {text}\\nPredicted: {label} ({pred[0]:.10f})\\n\")\n"
   ]
  },
  {
   "cell_type": "code",
   "execution_count": null,
   "metadata": {
    "execution": {
     "iopub.execute_input": "2025-08-31T19:34:48.147275Z",
     "iopub.status.busy": "2025-08-31T19:34:48.146998Z",
     "iopub.status.idle": "2025-08-31T19:34:48.416840Z",
     "shell.execute_reply": "2025-08-31T19:34:48.415883Z",
     "shell.execute_reply.started": "2025-08-31T19:34:48.147256Z"
    },
    "trusted": true
   },
   "outputs": [
    {
     "data": {
      "text/plain": [
       "['gru.pkl']"
      ]
     },
     "execution_count": 32,
     "metadata": {},
     "output_type": "execute_result"
    }
   ],
   "source": [
    "# Saving Models\n",
    "import joblib\n",
    "joblib.dump(rnn_model, '../models/rnn.pkl')\n",
    "joblib.dump(lstm_model, '../models/lstm.pkl')\n",
    "joblib.dump(gru_model, '../models/gru.pkl')"
   ]
  }
 ],
 "metadata": {
  "kaggle": {
   "accelerator": "none",
   "dataSources": [
    {
     "datasetId": 4831777,
     "sourceId": 8165591,
     "sourceType": "datasetVersion"
    }
   ],
   "dockerImageVersionId": 31089,
   "isGpuEnabled": false,
   "isInternetEnabled": true,
   "language": "python",
   "sourceType": "notebook"
  },
  "kernelspec": {
   "display_name": "venv",
   "language": "python",
   "name": "python3"
  },
  "language_info": {
   "codemirror_mode": {
    "name": "ipython",
    "version": 3
   },
   "file_extension": ".py",
   "mimetype": "text/x-python",
   "name": "python",
   "nbconvert_exporter": "python",
   "pygments_lexer": "ipython3",
   "version": "3.12.10"
  }
 },
 "nbformat": 4,
 "nbformat_minor": 4
}

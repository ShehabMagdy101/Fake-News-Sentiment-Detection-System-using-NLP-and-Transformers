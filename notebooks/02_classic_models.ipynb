{
 "cells": [
  {
   "cell_type": "markdown",
   "id": "4d9a87bf",
   "metadata": {},
   "source": [
    "# Classic Models"
   ]
  },
  {
   "cell_type": "markdown",
   "id": "c53a5089",
   "metadata": {},
   "source": [
    "- Naïve Bayes\n",
    "- Logistic Regression\n",
    "-  SVM"
   ]
  },
  {
   "cell_type": "code",
   "execution_count": 2,
   "id": "665c5dea",
   "metadata": {},
   "outputs": [],
   "source": [
    "import pandas as pd\n",
    "X_train = pd.read_csv('../data/processed/splits transformed/X_train_clean.csv', quoting= 1)\n",
    "X_test = pd.read_csv('../data/processed//splits transformed/X_test_clean.csv', quoting=1)\n",
    "\n",
    "y_train = pd.read_csv('../data/processed//splits/y_train.csv')\n",
    "y_test = pd.read_csv('../data/processed//splits/y_test.csv')"
   ]
  },
  {
   "cell_type": "code",
   "execution_count": 3,
   "id": "f04c89d7",
   "metadata": {},
   "outputs": [
    {
     "data": {
      "text/plain": [
       "(35918, 1)"
      ]
     },
     "execution_count": 3,
     "metadata": {},
     "output_type": "execute_result"
    }
   ],
   "source": [
    "y_train.shape"
   ]
  },
  {
   "cell_type": "code",
   "execution_count": 4,
   "id": "a197a6fa",
   "metadata": {},
   "outputs": [
    {
     "data": {
      "text/plain": [
       "(35918, 1)"
      ]
     },
     "execution_count": 4,
     "metadata": {},
     "output_type": "execute_result"
    }
   ],
   "source": [
    "X_train.shape"
   ]
  },
  {
   "cell_type": "code",
   "execution_count": 5,
   "id": "2160e6ac",
   "metadata": {},
   "outputs": [],
   "source": [
    "# we choose tf-idf as the text embedding method\n",
    "from sklearn.feature_extraction.text import TfidfVectorizer \n",
    "tfidf_vectorizer = TfidfVectorizer(max_df=0.7)\n",
    "X_tfidf_train = tfidf_vectorizer.fit_transform(X_train['transformed_text_title_combined'])\n",
    "X_tfidf_test = tfidf_vectorizer.transform(X_test['transformed_text_title_combined'])"
   ]
  },
  {
   "cell_type": "code",
   "execution_count": 6,
   "id": "f867de21",
   "metadata": {},
   "outputs": [
    {
     "name": "stdout",
     "output_type": "stream",
     "text": [
      "<Compressed Sparse Row sparse matrix of dtype 'float64'\n",
      "\twith 5675429 stored elements and shape (35918, 87232)>\n",
      "  Coords\tValues\n",
      "  (0, 83038)\t0.07813607802855041\n",
      "  (0, 64312)\t0.05880149864296185\n",
      "  (0, 83878)\t0.24665141446633027\n",
      "  (0, 34187)\t0.22927430017491146\n",
      "  (0, 76501)\t0.09700243134705672\n",
      "  (0, 39266)\t0.11631554407621744\n",
      "  (0, 18640)\t0.1027808491290854\n",
      "  (0, 37177)\t0.11372780376697138\n",
      "  (0, 33275)\t0.09367560385278573\n",
      "  (0, 13633)\t0.283448765860621\n",
      "  (0, 22719)\t0.2549698507539991\n",
      "  (0, 80887)\t0.10418762798263989\n",
      "  (0, 21180)\t0.3530744717228296\n",
      "  (0, 24933)\t0.20259954145086442\n",
      "  (0, 27470)\t0.11404444302165168\n",
      "  (0, 58539)\t0.08756450652531254\n",
      "  (0, 36906)\t0.1709181730015565\n",
      "  (0, 65923)\t0.11484917256871074\n",
      "  (0, 42653)\t0.08766053775214716\n",
      "  (0, 56055)\t0.2663667212682484\n",
      "  (0, 72022)\t0.11348246268449293\n",
      "  (0, 38952)\t0.18932525072206138\n",
      "  (0, 21805)\t0.20245261320990626\n",
      "  (0, 77077)\t0.07118711954424353\n",
      "  (0, 63778)\t0.10441910692826506\n",
      "  :\t:\n",
      "  (35917, 34217)\t0.027192175261880825\n",
      "  (35917, 56314)\t0.03144066629324621\n",
      "  (35917, 83299)\t0.022538632460179304\n",
      "  (35917, 84343)\t0.030860448405660813\n",
      "  (35917, 60055)\t0.02687367089011419\n",
      "  (35917, 43955)\t0.03144066629324621\n",
      "  (35917, 23049)\t0.025846480802881183\n",
      "  (35917, 11530)\t0.028931489253919366\n",
      "  (35917, 56390)\t0.024309859242969103\n",
      "  (35917, 72944)\t0.06430159119165728\n",
      "  (35917, 28133)\t0.033066311497016346\n",
      "  (35917, 84753)\t0.0607397623432751\n",
      "  (35917, 39594)\t0.061720896811321625\n",
      "  (35917, 80325)\t0.03144066629324621\n",
      "  (35917, 80592)\t0.03215079559582864\n",
      "  (35917, 22994)\t0.030860448405660813\n",
      "  (35917, 54692)\t0.26453049197613077\n",
      "  (35917, 19855)\t0.03144066629324621\n",
      "  (35917, 7109)\t0.033066311497016346\n",
      "  (35917, 79856)\t0.033066311497016346\n",
      "  (35917, 34982)\t0.03435665868718417\n",
      "  (35917, 59780)\t0.03435665868718417\n",
      "  (35917, 66895)\t0.03435665868718417\n",
      "  (35917, 35765)\t0.03435665868718417\n",
      "  (35917, 55928)\t0.03435665868718417\n"
     ]
    }
   ],
   "source": [
    "print(X_tfidf_train)"
   ]
  },
  {
   "cell_type": "code",
   "execution_count": 7,
   "id": "a3d0e2c5",
   "metadata": {},
   "outputs": [
    {
     "data": {
      "text/plain": [
       "(8980, 1)"
      ]
     },
     "execution_count": 7,
     "metadata": {},
     "output_type": "execute_result"
    }
   ],
   "source": [
    "y_test.shape"
   ]
  },
  {
   "cell_type": "code",
   "execution_count": 8,
   "id": "83e7264f",
   "metadata": {},
   "outputs": [
    {
     "data": {
      "text/plain": [
       "(8980, 1)"
      ]
     },
     "execution_count": 8,
     "metadata": {},
     "output_type": "execute_result"
    }
   ],
   "source": [
    "X_test.shape"
   ]
  },
  {
   "cell_type": "code",
   "execution_count": 9,
   "id": "dde0f215",
   "metadata": {},
   "outputs": [
    {
     "data": {
      "text/plain": [
       "(8980, 87232)"
      ]
     },
     "execution_count": 9,
     "metadata": {},
     "output_type": "execute_result"
    }
   ],
   "source": [
    "X_tfidf_test.shape"
   ]
  },
  {
   "cell_type": "code",
   "execution_count": 10,
   "id": "97622d44",
   "metadata": {},
   "outputs": [
    {
     "data": {
      "text/plain": [
       "(35918, 87232)"
      ]
     },
     "execution_count": 10,
     "metadata": {},
     "output_type": "execute_result"
    }
   ],
   "source": [
    "X_tfidf_train.shape"
   ]
  },
  {
   "cell_type": "code",
   "execution_count": 11,
   "id": "1e797b75",
   "metadata": {},
   "outputs": [
    {
     "data": {
      "text/plain": [
       "(35918, 1)"
      ]
     },
     "execution_count": 11,
     "metadata": {},
     "output_type": "execute_result"
    }
   ],
   "source": [
    "y_train.shape"
   ]
  },
  {
   "cell_type": "markdown",
   "id": "7ddf99f4",
   "metadata": {},
   "source": [
    "#### Choosing the Best Base Model"
   ]
  },
  {
   "cell_type": "code",
   "execution_count": 12,
   "id": "0fe67c83",
   "metadata": {},
   "outputs": [
    {
     "name": "stderr",
     "output_type": "stream",
     "text": [
      "c:\\Users\\sheha\\Desktop\\Fake News & Sentiment Detection System\\venv\\Lib\\site-packages\\sklearn\\utils\\validation.py:1406: DataConversionWarning: A column-vector y was passed when a 1d array was expected. Please change the shape of y to (n_samples, ), for example using ravel().\n",
      "  y = column_or_1d(y, warn=True)\n"
     ]
    },
    {
     "name": "stdout",
     "output_type": "stream",
     "text": [
      "Logistic Regression:               precision    recall  f1-score   support\n",
      "\n",
      "           0       0.99      0.99      0.99      4696\n",
      "           1       0.99      0.99      0.99      4284\n",
      "\n",
      "    accuracy                           0.99      8980\n",
      "   macro avg       0.99      0.99      0.99      8980\n",
      "weighted avg       0.99      0.99      0.99      8980\n",
      "\n"
     ]
    },
    {
     "name": "stderr",
     "output_type": "stream",
     "text": [
      "c:\\Users\\sheha\\Desktop\\Fake News & Sentiment Detection System\\venv\\Lib\\site-packages\\sklearn\\utils\\validation.py:1406: DataConversionWarning: A column-vector y was passed when a 1d array was expected. Please change the shape of y to (n_samples, ), for example using ravel().\n",
      "  y = column_or_1d(y, warn=True)\n"
     ]
    },
    {
     "name": "stdout",
     "output_type": "stream",
     "text": [
      "Linear SVC:               precision    recall  f1-score   support\n",
      "\n",
      "           0       1.00      1.00      1.00      4696\n",
      "           1       1.00      1.00      1.00      4284\n",
      "\n",
      "    accuracy                           1.00      8980\n",
      "   macro avg       1.00      1.00      1.00      8980\n",
      "weighted avg       1.00      1.00      1.00      8980\n",
      "\n",
      "Multinomial Naive Bayes:               precision    recall  f1-score   support\n",
      "\n",
      "           0       0.93      0.95      0.94      4696\n",
      "           1       0.94      0.92      0.93      4284\n",
      "\n",
      "    accuracy                           0.94      8980\n",
      "   macro avg       0.94      0.94      0.94      8980\n",
      "weighted avg       0.94      0.94      0.94      8980\n",
      "\n",
      "Model Comparison\n",
      "                     Model  Accuracy\n",
      "1               Linear SVC  0.996214\n",
      "0      Logistic Regression  0.987751\n",
      "2  Multinomial Naive Bayes  0.936971\n"
     ]
    },
    {
     "name": "stderr",
     "output_type": "stream",
     "text": [
      "c:\\Users\\sheha\\Desktop\\Fake News & Sentiment Detection System\\venv\\Lib\\site-packages\\sklearn\\utils\\validation.py:1406: DataConversionWarning: A column-vector y was passed when a 1d array was expected. Please change the shape of y to (n_samples, ), for example using ravel().\n",
      "  y = column_or_1d(y, warn=True)\n"
     ]
    }
   ],
   "source": [
    "from sklearn.linear_model import LogisticRegression\n",
    "from sklearn.naive_bayes import MultinomialNB\n",
    "from sklearn.svm import LinearSVC\n",
    "\n",
    "from sklearn.metrics import accuracy_score, classification_report, confusion_matrix, roc_curve, auc\n",
    "\n",
    "models = {\n",
    "    'Logistic Regression': LogisticRegression(max_iter=200),\n",
    "    'Linear SVC': LinearSVC(),\n",
    "    'Multinomial Naive Bayes': MultinomialNB(),\n",
    "}\n",
    "\n",
    "results = []\n",
    "\n",
    "for name, model in models.items():\n",
    "    model.fit(X_tfidf_train, y_train)\n",
    "    y_pred = model.predict(X_tfidf_test)\n",
    "    acc = accuracy_score(y_test, y_pred)\n",
    "    results.append({'Model': name, \"Accuracy\": acc})\n",
    "    print(f'{name}:', classification_report(y_test, y_pred))\n",
    "\n",
    "results_df = pd.DataFrame(results).sort_values(by='Accuracy', ascending=False)\n",
    "print('Model Comparison')\n",
    "print(results_df)"
   ]
  },
  {
   "cell_type": "code",
   "execution_count": 19,
   "id": "892114ed",
   "metadata": {},
   "outputs": [
    {
     "name": "stderr",
     "output_type": "stream",
     "text": [
      "c:\\Users\\sheha\\Desktop\\Fake News & Sentiment Detection System\\venv\\Lib\\site-packages\\sklearn\\utils\\validation.py:1406: DataConversionWarning: A column-vector y was passed when a 1d array was expected. Please change the shape of y to (n_samples, ), for example using ravel().\n",
      "  y = column_or_1d(y, warn=True)\n"
     ]
    },
    {
     "data": {
      "image/png": "[encoded data removed]",
      "text/plain": [
       "<Figure size 600x500 with 2 Axes>"
      ]
     },
     "metadata": {},
     "output_type": "display_data"
    }
   ],
   "source": [
    "import matplotlib.pyplot as plt\n",
    "import seaborn as sns\n",
    "from sklearn.metrics import confusion_matrix\n",
    "\n",
    "model = LogisticRegression(max_iter=200)\n",
    "model.fit(X_tfidf_train, y_train)\n",
    "y_pred = model.predict(X_tfidf_test)\n",
    "cm = confusion_matrix(y_test, y_pred)\n",
    "plt.figure(figsize=(6,5))\n",
    "sns.heatmap(cm, annot=True, fmt='d', cmap='Blues')\n",
    "plt.title(\"Logistic Regression Confusion Matrix\")\n",
    "plt.xlabel(\"Predicted\")\n",
    "plt.ylabel(\"Actual\")\n",
    "plt.savefig('../reports/figures/LogisticRegression_confusion_matrix.png', dpi=300)\n",
    "plt.show()\n",
    "plt.close()"
   ]
  },
  {
   "cell_type": "markdown",
   "id": "bd103023",
   "metadata": {},
   "source": [
    "#### Applying GridSearch on our Base Model"
   ]
  },
  {
   "cell_type": "code",
   "execution_count": null,
   "id": "caf0c3e3",
   "metadata": {},
   "outputs": [],
   "source": [
    "# cross validation on best model:  Linear SVC\n",
    "# hyper-parameter tunning\n",
    "from sklearn.model_selection import GridSearchCV\n",
    "import numpy as np\n",
    "\n",
    "param_grid = {\n",
    "    'penalty': ['l1', 'l2'],\n",
    "    'C': [0.001, 0.01, 0.1, 1, 10, 100],\n",
    "    'loss': ['hinge', 'squared_hinge'],\n",
    "    'class_weight': [None, 'balanced'],\n",
    "}\n",
    "\n",
    "svc = LinearSVC(max_iter=5000)\n",
    "\n",
    "grid_search = GridSearchCV(estimator=svc,\n",
    "                            param_grid=param_grid,\n",
    "                            scoring='accuracy', \n",
    "                            cv=5, \n",
    "                            n_jobs=-1, \n",
    "                            verbose=2)"
   ]
  },
  {
   "cell_type": "code",
   "execution_count": null,
   "id": "aa273813",
   "metadata": {},
   "outputs": [
    {
     "name": "stdout",
     "output_type": "stream",
     "text": [
      "Fitting 5 folds for each of 48 candidates, totalling 240 fits\n"
     ]
    },
    {
     "name": "stderr",
     "output_type": "stream",
     "text": [
      "c:\\Users\\sheha\\Desktop\\Fake News & Sentiment Detection System\\venv\\Lib\\site-packages\\sklearn\\model_selection\\_validation.py:516: FitFailedWarning: \n",
      "60 fits failed out of a total of 240.\n",
      "The score on these train-test partitions for these parameters will be set to nan.\n",
      "If these failures are not expected, you can try to debug them by setting error_score='raise'.\n",
      "\n",
      "Below are more details about the failures:\n",
      "--------------------------------------------------------------------------------\n",
      "60 fits failed with the following error:\n",
      "Traceback (most recent call last):\n",
      "  File \"c:\\Users\\sheha\\Desktop\\Fake News & Sentiment Detection System\\venv\\Lib\\site-packages\\sklearn\\model_selection\\_validation.py\", line 859, in _fit_and_score\n",
      "    estimator.fit(X_train, y_train, **fit_params)\n",
      "  File \"c:\\Users\\sheha\\Desktop\\Fake News & Sentiment Detection System\\venv\\Lib\\site-packages\\sklearn\\base.py\", line 1365, in wrapper\n",
      "    return fit_method(estimator, *args, **kwargs)\n",
      "           ^^^^^^^^^^^^^^^^^^^^^^^^^^^^^^^^^^^^^^\n",
      "  File \"c:\\Users\\sheha\\Desktop\\Fake News & Sentiment Detection System\\venv\\Lib\\site-packages\\sklearn\\svm\\_classes.py\", line 321, in fit\n",
      "    self.coef_, self.intercept_, n_iter_ = _fit_liblinear(\n",
      "                                           ^^^^^^^^^^^^^^^\n",
      "  File \"c:\\Users\\sheha\\Desktop\\Fake News & Sentiment Detection System\\venv\\Lib\\site-packages\\sklearn\\svm\\_base.py\", line 1229, in _fit_liblinear\n",
      "    solver_type = _get_liblinear_solver_type(multi_class, penalty, loss, dual)\n",
      "                  ^^^^^^^^^^^^^^^^^^^^^^^^^^^^^^^^^^^^^^^^^^^^^^^^^^^^^^^^^^^^\n",
      "  File \"c:\\Users\\sheha\\Desktop\\Fake News & Sentiment Detection System\\venv\\Lib\\site-packages\\sklearn\\svm\\_base.py\", line 1060, in _get_liblinear_solver_type\n",
      "    raise ValueError(\n",
      "ValueError: Unsupported set of arguments: The combination of penalty='l1' and loss='hinge' is not supported, Parameters: penalty='l1', loss='hinge', dual=False\n",
      "\n",
      "  warnings.warn(some_fits_failed_message, FitFailedWarning)\n",
      "c:\\Users\\sheha\\Desktop\\Fake News & Sentiment Detection System\\venv\\Lib\\site-packages\\sklearn\\model_selection\\_search.py:1135: UserWarning: One or more of the test scores are non-finite: [       nan 0.52299683 0.52299683 0.92182186        nan 0.91012867\n",
      " 0.52299683 0.92956173        nan 0.94183973 0.98023276 0.96480871\n",
      "        nan 0.94245221 0.9832396  0.96394565        nan 0.98293333\n",
      " 0.99287264 0.98727655        nan 0.98271057 0.99303967 0.98716519\n",
      "        nan 0.99348514 0.99532268 0.99381922        nan 0.99348514\n",
      " 0.99529484 0.99387489        nan 0.99348512 0.99607438 0.99381922\n",
      "        nan 0.99351297 0.99607438 0.99379138        nan 0.99290048\n",
      " 0.99618576 0.99351298        nan 0.99290048 0.9960187  0.99356867]\n",
      "  warnings.warn(\n",
      "c:\\Users\\sheha\\Desktop\\Fake News & Sentiment Detection System\\venv\\Lib\\site-packages\\sklearn\\utils\\validation.py:1406: DataConversionWarning: A column-vector y was passed when a 1d array was expected. Please change the shape of y to (n_samples, ), for example using ravel().\n",
      "  y = column_or_1d(y, warn=True)\n"
     ]
    },
    {
     "name": "stdout",
     "output_type": "stream",
     "text": [
      "Best Parameters: {'C': 100, 'class_weight': None, 'loss': 'squared_hinge', 'penalty': 'l1'}\n",
      "Best Cross-Validation Accuracy: 0.9961857634038795\n"
     ]
    }
   ],
   "source": [
    "grid_search.fit(X_tfidf_train, y_train)\n",
    "print(\"Best Parameters:\", grid_search.best_params_)\n",
    "print(\"Best Cross-Validation Accur0acy:\", grid_search.best_score_)"
   ]
  },
  {
   "cell_type": "code",
   "execution_count": null,
   "id": "c026f5be",
   "metadata": {},
   "outputs": [
    {
     "name": "stdout",
     "output_type": "stream",
     "text": [
      "Test Accuracy with best params: 0.9969933184855234\n"
     ]
    }
   ],
   "source": [
    "best_model = grid_search.best_estimator_\n",
    "test_acc = best_model.score(X_tfidf_test, y_test)\n",
    "print(\"Test Accuracy with best params:\", test_acc)"
   ]
  },
  {
   "cell_type": "code",
   "execution_count": null,
   "id": "faf0ddc8",
   "metadata": {},
   "outputs": [
    {
     "data": {
      "text/plain": [
       "['../models/LinearSVC.pkl']"
      ]
     },
     "execution_count": 18,
     "metadata": {},
     "output_type": "execute_result"
    }
   ],
   "source": [
    "# Saving best model\n",
    "import joblib\n",
    "\n",
    "joblib.dump(best_model, \"../models/LinearSVC.pkl\")"
   ]
  }
 ],
 "metadata": {
  "kernelspec": {
   "display_name": "venv",
   "language": "python",
   "name": "python3"
  },
  "language_info": {
   "codemirror_mode": {
    "name": "ipython",
    "version": 3
   },
   "file_extension": ".py",
   "mimetype": "text/x-python",
   "name": "python",
   "nbconvert_exporter": "python",
   "pygments_lexer": "ipython3",
   "version": "3.12.10"
  }
 },
 "nbformat": 4,
 "nbformat_minor": 5
}
